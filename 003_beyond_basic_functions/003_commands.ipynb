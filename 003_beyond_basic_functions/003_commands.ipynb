{
 "cells": [
  {
   "cell_type": "markdown",
   "id": "fa68ddd4-0635-4961-bc7a-f29416bf8492",
   "metadata": {},
   "source": [
    "## Commands to validate resolver"
   ]
  },
  {
   "cell_type": "code",
   "execution_count": 1,
   "id": "af88227e-862d-4b06-9c85-2bc6582b5583",
   "metadata": {},
   "outputs": [
    {
     "data": {
      "text/plain": [
       "['C:\\\\Users\\\\User\\\\AppData\\\\Local\\\\Programs\\\\Python\\\\Python311\\\\python311.zip',\n",
       " 'C:\\\\Users\\\\User\\\\AppData\\\\Local\\\\Programs\\\\Python\\\\Python311\\\\Lib',\n",
       " 'C:\\\\Users\\\\User\\\\AppData\\\\Local\\\\Programs\\\\Python\\\\Python311\\\\DLLs',\n",
       " 'C:\\\\Users\\\\User\\\\AppData\\\\Local\\\\Programs\\\\Python\\\\Python311',\n",
       " '',\n",
       " 'C:\\\\Users\\\\User\\\\AppData\\\\Local\\\\Programs\\\\Python\\\\Python311\\\\Lib\\\\site-packages',\n",
       " 'C:\\\\Users\\\\User\\\\AppData\\\\Local\\\\Programs\\\\Python\\\\Python311\\\\Lib\\\\site-packages\\\\win32',\n",
       " 'C:\\\\Users\\\\User\\\\AppData\\\\Local\\\\Programs\\\\Python\\\\Python311\\\\Lib\\\\site-packages\\\\win32\\\\lib',\n",
       " 'C:\\\\Users\\\\User\\\\AppData\\\\Local\\\\Programs\\\\Python\\\\Python311\\\\Lib\\\\site-packages\\\\Pythonwin']"
      ]
     },
     "execution_count": 1,
     "metadata": {},
     "output_type": "execute_result"
    }
   ],
   "source": [
    "import sys\n",
    "sys.path"
   ]
  },
  {
   "cell_type": "code",
   "execution_count": 2,
   "id": "28c051c5-5f7c-41dd-8489-2ea215cf5d71",
   "metadata": {},
   "outputs": [
    {
     "data": {
      "text/plain": [
       "'D:\\\\learning\\\\python\\\\python_beyond_the_basics_src\\\\003_beyond_basic_functions'"
      ]
     },
     "execution_count": 2,
     "metadata": {},
     "output_type": "execute_result"
    }
   ],
   "source": [
    "import os\n",
    "os.getcwd()"
   ]
  },
  {
   "cell_type": "code",
   "execution_count": 3,
   "id": "f4386c2c-e125-48f6-a84f-f60dd0863733",
   "metadata": {},
   "outputs": [],
   "source": [
    "sys.path.append(\"D:\\\\learning\\\\python\\\\python_beyond_the_basics_src\\\\003_beyond_basic_functions\\\\resolver\")"
   ]
  },
  {
   "cell_type": "code",
   "execution_count": 4,
   "id": "dfc52bba-46df-4c10-aa7c-a4ae7c971871",
   "metadata": {},
   "outputs": [
    {
     "data": {
      "text/plain": [
       "['C:\\\\Users\\\\User\\\\AppData\\\\Local\\\\Programs\\\\Python\\\\Python311\\\\python311.zip',\n",
       " 'C:\\\\Users\\\\User\\\\AppData\\\\Local\\\\Programs\\\\Python\\\\Python311\\\\Lib',\n",
       " 'C:\\\\Users\\\\User\\\\AppData\\\\Local\\\\Programs\\\\Python\\\\Python311\\\\DLLs',\n",
       " 'C:\\\\Users\\\\User\\\\AppData\\\\Local\\\\Programs\\\\Python\\\\Python311',\n",
       " '',\n",
       " 'C:\\\\Users\\\\User\\\\AppData\\\\Local\\\\Programs\\\\Python\\\\Python311\\\\Lib\\\\site-packages',\n",
       " 'C:\\\\Users\\\\User\\\\AppData\\\\Local\\\\Programs\\\\Python\\\\Python311\\\\Lib\\\\site-packages\\\\win32',\n",
       " 'C:\\\\Users\\\\User\\\\AppData\\\\Local\\\\Programs\\\\Python\\\\Python311\\\\Lib\\\\site-packages\\\\win32\\\\lib',\n",
       " 'C:\\\\Users\\\\User\\\\AppData\\\\Local\\\\Programs\\\\Python\\\\Python311\\\\Lib\\\\site-packages\\\\Pythonwin',\n",
       " 'D:\\\\learning\\\\python\\\\python_beyond_the_basics_src\\\\003_beyond_basic_functions\\\\resolver']"
      ]
     },
     "execution_count": 4,
     "metadata": {},
     "output_type": "execute_result"
    }
   ],
   "source": [
    "sys.path"
   ]
  },
  {
   "cell_type": "code",
   "execution_count": 5,
   "id": "1cbec02d-b6f5-4357-98a6-87337c4fa6d7",
   "metadata": {},
   "outputs": [],
   "source": [
    "from resolver import Resolver"
   ]
  },
  {
   "cell_type": "code",
   "execution_count": 6,
   "id": "a862399b-bcc1-46de-a309-22a507e95c84",
   "metadata": {},
   "outputs": [],
   "source": [
    "resolve = Resolver()"
   ]
  },
  {
   "cell_type": "code",
   "execution_count": 7,
   "id": "31638b39-3bbe-4ab7-8b0d-6ba2cba2a91b",
   "metadata": {},
   "outputs": [
    {
     "ename": "TypeError",
     "evalue": "Resolver.__call__() missing 1 required positional argument: 'host'",
     "output_type": "error",
     "traceback": [
      "\u001b[31m---------------------------------------------------------------------------\u001b[39m",
      "\u001b[31mTypeError\u001b[39m                                 Traceback (most recent call last)",
      "\u001b[36mCell\u001b[39m\u001b[36m \u001b[39m\u001b[32mIn[7]\u001b[39m\u001b[32m, line 1\u001b[39m\n\u001b[32m----> \u001b[39m\u001b[32m1\u001b[39m \u001b[43mresolve\u001b[49m\u001b[43m(\u001b[49m\u001b[43m)\u001b[49m\n",
      "\u001b[31mTypeError\u001b[39m: Resolver.__call__() missing 1 required positional argument: 'host'"
     ]
    }
   ],
   "source": [
    "resolve()"
   ]
  },
  {
   "cell_type": "code",
   "execution_count": 8,
   "id": "51a6ef03-0f35-4541-8e23-42bf73706c52",
   "metadata": {},
   "outputs": [
    {
     "data": {
      "text/plain": [
       "'147.75.40.148'"
      ]
     },
     "execution_count": 8,
     "metadata": {},
     "output_type": "execute_result"
    }
   ],
   "source": [
    "resolve(\"kubernetes.io\")"
   ]
  },
  {
   "cell_type": "code",
   "execution_count": 9,
   "id": "360480a8-d18e-4a66-a321-f1803575c196",
   "metadata": {},
   "outputs": [
    {
     "data": {
      "text/plain": [
       "{'kubernetes.io': '147.75.40.148'}"
      ]
     },
     "execution_count": 9,
     "metadata": {},
     "output_type": "execute_result"
    }
   ],
   "source": [
    "resolve._cache"
   ]
  },
  {
   "cell_type": "code",
   "execution_count": 10,
   "id": "aeb7af0b-8895-443b-9ce1-2f4d6a274882",
   "metadata": {},
   "outputs": [
    {
     "data": {
      "text/plain": [
       "True"
      ]
     },
     "execution_count": 10,
     "metadata": {},
     "output_type": "execute_result"
    }
   ],
   "source": [
    "resolve.has_host(\"kubernetes.io\")"
   ]
  },
  {
   "cell_type": "code",
   "execution_count": 11,
   "id": "594db63c-e01e-41c7-983f-0a342385aac9",
   "metadata": {},
   "outputs": [],
   "source": [
    "from timeit import timeit"
   ]
  },
  {
   "cell_type": "code",
   "execution_count": 12,
   "id": "c9d85c2e-7337-4721-8b0c-a5e73df41963",
   "metadata": {},
   "outputs": [
    {
     "data": {
      "text/plain": [
       "0.0007374000269919634"
      ]
     },
     "execution_count": 12,
     "metadata": {},
     "output_type": "execute_result"
    }
   ],
   "source": [
    "timeit(setup=\"from __main__ import resolve\", stmt=\"resolve('python.org')\", number=1)"
   ]
  },
  {
   "cell_type": "code",
   "execution_count": 13,
   "id": "487c1377-933f-4295-b800-9ec60cb38584",
   "metadata": {},
   "outputs": [
    {
     "data": {
      "text/plain": [
       "6.099988240748644e-06"
      ]
     },
     "execution_count": 13,
     "metadata": {},
     "output_type": "execute_result"
    }
   ],
   "source": [
    "timeit(setup=\"from __main__ import resolve\", stmt=\"resolve('python.org')\", number=1)"
   ]
  },
  {
   "cell_type": "code",
   "execution_count": 14,
   "id": "3d1ee60c-f8dd-4c56-9c4b-d18a5d466cce",
   "metadata": {},
   "outputs": [
    {
     "name": "stdout",
     "output_type": "stream",
     "text": [
      "0.000006\n"
     ]
    }
   ],
   "source": [
    "print(\"{:f}\".format(_))"
   ]
  }
 ],
 "metadata": {
  "kernelspec": {
   "display_name": "Python 3 (ipykernel)",
   "language": "python",
   "name": "python3"
  },
  "language_info": {
   "codemirror_mode": {
    "name": "ipython",
    "version": 3
   },
   "file_extension": ".py",
   "mimetype": "text/x-python",
   "name": "python",
   "nbconvert_exporter": "python",
   "pygments_lexer": "ipython3",
   "version": "3.11.0"
  }
 },
 "nbformat": 4,
 "nbformat_minor": 5
}
