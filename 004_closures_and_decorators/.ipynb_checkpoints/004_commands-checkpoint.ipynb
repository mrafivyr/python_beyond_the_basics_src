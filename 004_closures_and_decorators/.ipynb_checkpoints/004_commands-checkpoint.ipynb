{
 "cells": [
  {
   "cell_type": "code",
   "execution_count": 1,
   "id": "0257d95a-67d9-4627-ba43-c59d314fd76b",
   "metadata": {},
   "outputs": [],
   "source": [
    "from sort_by_last_letter import sort_by_last_letter"
   ]
  },
  {
   "cell_type": "code",
   "execution_count": 2,
   "id": "1e841500-c291-450a-84bc-b74886828758",
   "metadata": {},
   "outputs": [
    {
     "data": {
      "text/plain": [
       "[]"
      ]
     },
     "execution_count": 2,
     "metadata": {},
     "output_type": "execute_result"
    }
   ],
   "source": [
    "sort_by_last_letter([])"
   ]
  },
  {
   "cell_type": "code",
   "execution_count": 3,
   "id": "a16df13c-0106-483a-b9f6-91b9e5ce809d",
   "metadata": {},
   "outputs": [
    {
     "data": {
      "text/plain": [
       "['a', 'local', 'from', 'function', 'hello']"
      ]
     },
     "execution_count": 3,
     "metadata": {},
     "output_type": "execute_result"
    }
   ],
   "source": [
    "sort_by_last_letter([\"hello\", \"from\", \"a\", \"local\", \"function\"])"
   ]
  },
  {
   "cell_type": "markdown",
   "id": "f0967169-f63d-4c52-91e2-a7f1f145ae99",
   "metadata": {},
   "source": [
    "## Local function **last_letter** is defined each time sort_by_last_letter is called."
   ]
  },
  {
   "cell_type": "code",
   "execution_count": 1,
   "id": "12135653-8dcb-46e3-8b95-5edeee9f7d90",
   "metadata": {},
   "outputs": [
    {
     "name": "stdout",
     "output_type": "stream",
     "text": [
      "[]\n"
     ]
    }
   ],
   "source": [
    "from sort_by_last_letter import sort_by_last_letter as mod_sort"
   ]
  },
  {
   "cell_type": "code",
   "execution_count": 2,
   "id": "c044622b-9f71-443a-b56b-9eda4403d875",
   "metadata": {},
   "outputs": [
    {
     "name": "stdout",
     "output_type": "stream",
     "text": [
      "<function sort_by_last_letter.<locals>.last_letter at 0x0000012F54BDA340>\n",
      "ghi\n",
      "def\n",
      "abc\n"
     ]
    },
    {
     "data": {
      "text/plain": [
       "['abc', 'def', 'ghi']"
      ]
     },
     "execution_count": 2,
     "metadata": {},
     "output_type": "execute_result"
    }
   ],
   "source": [
    "mod_sort([\"ghi\", \"def\", \"abc\"])"
   ]
  },
  {
   "cell_type": "code",
   "execution_count": 3,
   "id": "f2b06865-d9e4-426f-a7c3-759006419259",
   "metadata": {},
   "outputs": [
    {
     "name": "stdout",
     "output_type": "stream",
     "text": [
      "<function sort_by_last_letter.<locals>.last_letter at 0x0000012F54BDA3E0>\n",
      "ghi\n",
      "def\n",
      "abc\n"
     ]
    },
    {
     "data": {
      "text/plain": [
       "['abc', 'def', 'ghi']"
      ]
     },
     "execution_count": 3,
     "metadata": {},
     "output_type": "execute_result"
    }
   ],
   "source": [
    "mod_sort([\"ghi\", \"def\", \"abc\"])"
   ]
  },
  {
   "cell_type": "code",
   "execution_count": 4,
   "id": "1d3b163e-53f1-4c40-98c0-ef2898e92f24",
   "metadata": {},
   "outputs": [
    {
     "name": "stdout",
     "output_type": "stream",
     "text": [
      "<function sort_by_last_letter.<locals>.last_letter at 0x0000012F54BDB100>\n",
      "ghi\n",
      "def\n",
      "abc\n"
     ]
    },
    {
     "data": {
      "text/plain": [
       "['abc', 'def', 'ghi']"
      ]
     },
     "execution_count": 4,
     "metadata": {},
     "output_type": "execute_result"
    }
   ],
   "source": [
    "mod_sort([\"ghi\", \"def\", \"abc\"])"
   ]
  },
  {
   "cell_type": "markdown",
   "id": "35786406-196c-4a61-a2dd-8e5506bb4bcd",
   "metadata": {},
   "source": [
    "### LEGB rule for variable -- local enclosing global"
   ]
  },
  {
   "cell_type": "code",
   "execution_count": 5,
   "id": "99418c6b-8f2d-4574-85ed-82b0c98a6f19",
   "metadata": {},
   "outputs": [
    {
     "name": "stdout",
     "output_type": "stream",
     "text": [
      "global param local\n"
     ]
    }
   ],
   "source": [
    "g = \"global\"\n",
    "def outer(p=\"param\"):\n",
    "    l = \"local\"\n",
    "    def inner():\n",
    "        print(g, p, l)\n",
    "    inner()\n",
    "outer()"
   ]
  },
  {
   "cell_type": "code",
   "execution_count": 6,
   "id": "0fcbec81-f35d-497f-b402-eb69be5696c2",
   "metadata": {},
   "outputs": [
    {
     "ename": "AttributeError",
     "evalue": "'function' object has no attribute 'inner'",
     "output_type": "error",
     "traceback": [
      "\u001b[31m---------------------------------------------------------------------------\u001b[39m",
      "\u001b[31mAttributeError\u001b[39m                            Traceback (most recent call last)",
      "\u001b[36mCell\u001b[39m\u001b[36m \u001b[39m\u001b[32mIn[6]\u001b[39m\u001b[32m, line 1\u001b[39m\n\u001b[32m----> \u001b[39m\u001b[32m1\u001b[39m \u001b[43mouter\u001b[49m\u001b[43m.\u001b[49m\u001b[43minner\u001b[49m()\n",
      "\u001b[31mAttributeError\u001b[39m: 'function' object has no attribute 'inner'"
     ]
    }
   ],
   "source": [
    "outer.inner()"
   ]
  },
  {
   "cell_type": "markdown",
   "id": "89ac1135-20aa-4004-bfd0-76c9cc72f95f",
   "metadata": {},
   "source": [
    "### outer has no function inner.\n",
    "* inner is only defined when outer is executed*"
   ]
  }
 ],
 "metadata": {
  "kernelspec": {
   "display_name": "Python 3 (ipykernel)",
   "language": "python",
   "name": "python3"
  },
  "language_info": {
   "codemirror_mode": {
    "name": "ipython",
    "version": 3
   },
   "file_extension": ".py",
   "mimetype": "text/x-python",
   "name": "python",
   "nbconvert_exporter": "python",
   "pygments_lexer": "ipython3",
   "version": "3.11.0"
  }
 },
 "nbformat": 4,
 "nbformat_minor": 5
}
